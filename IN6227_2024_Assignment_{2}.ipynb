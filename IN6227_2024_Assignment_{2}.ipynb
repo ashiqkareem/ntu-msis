{
  "cells": [
    {
      "cell_type": "markdown",
      "metadata": {
        "id": "688qc91SUt4D"
      },
      "source": [
        "# Time Complexity of Apriori vs. Brute-Force\n",
        "NTU MSIS\\\n",
        "IN6227-2024-Assignment-2\\\n",
        "Ashiq Kareem\\\n",
        "G2405747J"
      ]
    },
    {
      "cell_type": "code",
      "source": [
        "from google.colab import drive\n",
        "drive.mount('/content/drive')"
      ],
      "metadata": {
        "id": "JnGHCke7jR6J"
      },
      "execution_count": null,
      "outputs": []
    },
    {
      "cell_type": "markdown",
      "metadata": {
        "id": "LKLrnLIDIBV8"
      },
      "source": [
        "## Creating datasets\n",
        "\n",
        "A total of 8 datasets with different sizes (4 from Titanic and 4 from Restaurants) to measure time complexity of association rule mining algorithms vs brute forcing approaches."
      ]
    },
    {
      "cell_type": "markdown",
      "source": [
        "### Titanic dataset"
      ],
      "metadata": {
        "id": "-VFEGpgXlbwc"
      }
    },
    {
      "cell_type": "markdown",
      "metadata": {
        "id": "-SK_j5gPfWap"
      },
      "source": [
        "#### Importing Titanic dataset from Kaggle\n",
        "\n",
        "https://www.kaggle.com/datasets/fteodoro/titanicapriori"
      ]
    },
    {
      "cell_type": "code",
      "execution_count": 5,
      "metadata": {
        "id": "i7q38BK0eP1Q"
      },
      "outputs": [],
      "source": [
        "import pandas as pd\n",
        "\n",
        "# Load the dataset\n",
        "df = pd.read_csv('/content/drive/MyDrive/NTU MSIS/IN6227/Assignment 2/raw_datasets/titanic_analysis.csv', delimiter=';')\n",
        "\n",
        "# Create transactions per row by grouping everything together\n",
        "titanic = df.apply(lambda row: [row['Sex'], row['Age'], row['Survived']], axis=1)\n",
        "titanic = pd.DataFrame({'statistics': titanic})\n",
        "titanic.to_csv('/content/drive/MyDrive/NTU MSIS/IN6227/Assignment 2/preprocessed_datasets/preprocessed_titanic_analysis.csv')"
      ]
    },
    {
      "cell_type": "markdown",
      "source": [
        "#### Creating 4 Titanic datasets varying in size\n",
        "\n",
        "Small - 1000 rows\\\n",
        "Medium - 10,000 rows\\\n",
        "Large - 100,000 rows\\\n",
        "X-Large - 1,000,000 rows"
      ],
      "metadata": {
        "id": "zTJ1hQg2lhhL"
      }
    },
    {
      "cell_type": "code",
      "execution_count": 6,
      "metadata": {
        "id": "Ekqy4y_yXkN9"
      },
      "outputs": [],
      "source": [
        "# Create small Titanic dataset\n",
        "titanic_small = titanic.sample(n=1000, random_state=1)\n",
        "titanic_small.to_pickle('/content/drive/MyDrive/NTU MSIS/IN6227/Assignment 2/preprocessed_datasets/titanic_small.pkl')\n",
        "\n",
        "# Create medium Titanic dataset\n",
        "titanic_medium_repeat = 10000 // len(titanic) + 1\n",
        "titanic_medium = pd.concat([titanic] * titanic_medium_repeat, ignore_index=True)\n",
        "titanic_medium = titanic_medium[:10000]\n",
        "titanic_medium.to_pickle('/content/drive/MyDrive/NTU MSIS/IN6227/Assignment 2/preprocessed_datasets/titanic_medium.pkl')\n",
        "\n",
        "# # Create large Titanic dataset\n",
        "titanic_large_repeat = 100000 // len(titanic) + 1\n",
        "titanic_large = pd.concat([titanic] * titanic_large_repeat, ignore_index=True)\n",
        "titanic_large = titanic_large[:100000]\n",
        "titanic_large.to_pickle('/content/drive/MyDrive/NTU MSIS/IN6227/Assignment 2/preprocessed_datasets/titanic_large.pkl')\n",
        "\n",
        "# Create xtra large Titanic dataset\n",
        "titanic_xlarge_repeat = 1000000 // len(titanic) + 1\n",
        "titanic_xlarge = pd.concat([titanic] * titanic_xlarge_repeat, ignore_index=True)\n",
        "titanic_xlarge = titanic_xlarge[:1000000]\n",
        "titanic_xlarge.to_pickle('/content/drive/MyDrive/NTU MSIS/IN6227/Assignment 2/preprocessed_datasets/titanic_xlarge.pkl')"
      ]
    },
    {
      "cell_type": "markdown",
      "source": [
        "### Restaurants dataset"
      ],
      "metadata": {
        "id": "JauNQ9Dsl5Y5"
      }
    },
    {
      "cell_type": "markdown",
      "metadata": {
        "id": "6k5RhcvJg0rb"
      },
      "source": [
        "#### Importing New York Restaurant dataset from Github\n",
        "\n",
        "https://github.com/rohanag/ADB-AssocRuleMining/blob/master/Dataset.csv"
      ]
    },
    {
      "cell_type": "code",
      "execution_count": 35,
      "metadata": {
        "colab": {
          "base_uri": "https://localhost:8080/"
        },
        "id": "qug-7tfUg0TO",
        "outputId": "481be6bf-2838-4bc2-acae-83ea95e02cc8"
      },
      "outputs": [
        {
          "output_type": "stream",
          "name": "stderr",
          "text": [
            "/usr/local/lib/python3.10/dist-packages/ipykernel/ipkernel.py:283: DeprecationWarning: `should_run_async` will not call `transform_cell` automatically in the future. Please pass the result to `transformed_cell` argument and any exception that happen during thetransform in `preprocessing_exc_tuple` in IPython 7.17 and above.\n",
            "  and should_run_async(code)\n",
            "<ipython-input-35-facb13c7b38d>:10: FutureWarning: DataFrame.applymap has been deprecated. Use DataFrame.map instead.\n",
            "  df = df.applymap(lambda x: x.replace(' ', '') if isinstance(x, str) else x)\n"
          ]
        }
      ],
      "source": [
        "import pandas as pd\n",
        "\n",
        "# Load the dataset\n",
        "df = pd.read_csv('/content/drive/MyDrive/NTU MSIS/IN6227/Assignment 2/raw_datasets/newyorkrestaurant_dataset.csv', on_bad_lines='skip')\n",
        "df = df.reset_index()\n",
        "df = df.drop(columns=['index'])\n",
        "df.columns = ['Borough', 'Cuisine', 'Grade']\n",
        "\n",
        "# Remove all whitespace from all string columns\n",
        "df = df.applymap(lambda x: x.replace(' ', '') if isinstance(x, str) else x)\n",
        "\n",
        "# Generate transaction data by combining columns\n",
        "restaurants = df.apply(lambda row: [row['Borough'], row['Cuisine'], row['Grade']], axis=1)\n",
        "restaurants = pd.DataFrame({'items': restaurants})\n",
        "restaurants.to_csv('/content/drive/MyDrive/NTU MSIS/IN6227/Assignment 2/preprocessed_datasets/preprocessed_newyorkrestaurant_analysis.csv')"
      ]
    },
    {
      "cell_type": "markdown",
      "source": [
        "#### Creating 4 Restaurant datasets varying in size\n",
        "\n",
        "Small - 1000 rows\\\n",
        "Medium - 10,000 rows\\\n",
        "Large - 100,000 rows\\\n",
        "X-Large - 1,000,000 rows"
      ],
      "metadata": {
        "id": "qK-mvYRBmDE7"
      }
    },
    {
      "cell_type": "code",
      "source": [
        "def get_unique_items(transactions):\n",
        "  # Get unique items from all transactions\n",
        "  unique_items = set()\n",
        "  for transaction in transactions:\n",
        "      unique_items.update(transaction)\n",
        "  return unique_items\n",
        "\n",
        "items = 0\n",
        "restaurants_sample = restaurants.sample(n=1)\n",
        "\n",
        "while items < 92:\n",
        "  # Sample a single row from the restaurants Dataframe\n",
        "  sampled_row = restaurants.sample(n=1)\n",
        "\n",
        "  # Concatenate the existing Dataframe with the sampled row\n",
        "  restaurants_sample = pd.concat([restaurants_sample, sampled_row], ignore_index=True)\n",
        "\n",
        "  # Convert DataFrame to list of transactions\n",
        "  transactions = [set(item_list) for item_list in restaurants_sample['items']]\n",
        "\n",
        "  # Calculate unique items\n",
        "  new_items = get_unique_items(transactions)\n",
        "\n",
        "  if len(new_items) > items:\n",
        "    items = len(new_items)\n",
        "  else:\n",
        "    restaurants_sample = restaurants_sample.drop(restaurants_sample.index[-1])\n",
        "\n",
        "restaurants_sample.to_pickle('/content/drive/MyDrive/NTU MSIS/IN6227/Assignment 2/preprocessed_datasets/restaurants_sample.pkl')"
      ],
      "metadata": {
        "id": "_6WzGjHHRhPx"
      },
      "execution_count": 10,
      "outputs": []
    },
    {
      "cell_type": "code",
      "source": [
        "restaurants_sample = pd.read_pickle('/content/drive/MyDrive/NTU MSIS/IN6227/Assignment 2/preprocessed_datasets/restaurants_sample.pkl')"
      ],
      "metadata": {
        "colab": {
          "base_uri": "https://localhost:8080/"
        },
        "id": "CF0xVtMznJCZ",
        "outputId": "4965d8a1-d181-4106-b48b-67ed4ec24a5d"
      },
      "execution_count": 36,
      "outputs": [
        {
          "output_type": "stream",
          "name": "stderr",
          "text": [
            "/usr/local/lib/python3.10/dist-packages/ipykernel/ipkernel.py:283: DeprecationWarning: `should_run_async` will not call `transform_cell` automatically in the future. Please pass the result to `transformed_cell` argument and any exception that happen during thetransform in `preprocessing_exc_tuple` in IPython 7.17 and above.\n",
            "  and should_run_async(code)\n"
          ]
        }
      ]
    },
    {
      "cell_type": "code",
      "source": [
        "# Create small restaurants dataset\n",
        "restaurants_small = restaurants.sample(n=1000-83, random_state=1)\n",
        "restaurants_small = pd.concat([restaurants_small, restaurants_sample], ignore_index=True)\n",
        "restaurants_small.to_pickle('/content/drive/MyDrive/NTU MSIS/IN6227/Assignment 2/preprocessed_datasets/restaurants_small.pkl')\n",
        "\n",
        "# Create medium restaurants dataset\n",
        "restaurants_medium_repeat = 10000 // len(restaurants) + 1\n",
        "restaurants_medium = pd.concat([restaurants] * restaurants_medium_repeat, ignore_index=True)\n",
        "restaurants_medium = restaurants_medium[:10000-83]\n",
        "restaurants_medium = pd.concat([restaurants_medium, restaurants_sample], ignore_index=True)\n",
        "restaurants_medium.to_pickle('/content/drive/MyDrive/NTU MSIS/IN6227/Assignment 2/preprocessed_datasets/restaurants_medium.pkl')\n",
        "\n",
        "# Create large restaurants dataset\n",
        "restaurants_large_repeat = 10000 // len(restaurants) + 1\n",
        "restaurants_large = pd.concat([restaurants] * restaurants_large_repeat, ignore_index=True)\n",
        "restaurants_large = restaurants_large[:100000-83]\n",
        "restaurants_large = pd.concat([restaurants_large, restaurants_sample], ignore_index=True)\n",
        "restaurants_large.to_pickle('/content/drive/MyDrive/NTU MSIS/IN6227/Assignment 2/preprocessed_datasets/restaurants_large.pkl')\n",
        "\n",
        "# Create xlarge restaurants dataset\n",
        "restaurants_xlarge_repeat = 10000 // len(restaurants) + 1\n",
        "restaurants_xlarge = pd.concat([restaurants] * restaurants_xlarge_repeat, ignore_index=True)\n",
        "restaurants_xlarge = restaurants_xlarge[:1000000-83]\n",
        "restaurants_xlarge = pd.concat([restaurants_xlarge, restaurants_sample], ignore_index=True)\n",
        "restaurants_xlarge.to_pickle('/content/drive/MyDrive/NTU MSIS/IN6227/Assignment 2/preprocessed_datasets/restaurants_xlarge.pkl')"
      ],
      "metadata": {
        "colab": {
          "base_uri": "https://localhost:8080/"
        },
        "id": "EWM9rzHiXQa2",
        "outputId": "d8325818-1c72-42cb-dacf-f44ef73a1925"
      },
      "execution_count": 37,
      "outputs": [
        {
          "output_type": "stream",
          "name": "stderr",
          "text": [
            "/usr/local/lib/python3.10/dist-packages/ipykernel/ipkernel.py:283: DeprecationWarning: `should_run_async` will not call `transform_cell` automatically in the future. Please pass the result to `transformed_cell` argument and any exception that happen during thetransform in `preprocessing_exc_tuple` in IPython 7.17 and above.\n",
            "  and should_run_async(code)\n"
          ]
        }
      ]
    },
    {
      "cell_type": "markdown",
      "metadata": {
        "id": "rdtwFc-fHwh-"
      },
      "source": [
        "## Association rule mining implementation"
      ]
    },
    {
      "cell_type": "markdown",
      "metadata": {
        "id": "XoUXqJPVeLbD"
      },
      "source": [
        "### Titanic dataset"
      ]
    },
    {
      "cell_type": "markdown",
      "metadata": {
        "id": "ef47nn7We1PJ"
      },
      "source": [
        "#### Running Apriori algorithm on Small Titanic dataset"
      ]
    },
    {
      "cell_type": "code",
      "execution_count": 13,
      "metadata": {
        "id": "qQbMucnUd_ZA"
      },
      "outputs": [],
      "source": [
        "titanic_small = pd.read_pickle('/content/drive/MyDrive/NTU MSIS/IN6227/Assignment 2/preprocessed_datasets/titanic_small.pkl')\n",
        "titanic_small = titanic_small['statistics'].str.join('|').str.get_dummies()"
      ]
    },
    {
      "cell_type": "code",
      "execution_count": 14,
      "metadata": {
        "colab": {
          "base_uri": "https://localhost:8080/"
        },
        "id": "ey1XsP0ffImZ",
        "outputId": "9c420b93-ef20-460b-da5a-8648c0edf795"
      },
      "outputs": [
        {
          "output_type": "stream",
          "name": "stdout",
          "text": [
            "0.013360023498535156\n"
          ]
        },
        {
          "output_type": "stream",
          "name": "stderr",
          "text": [
            "/usr/local/lib/python3.10/dist-packages/mlxtend/frequent_patterns/fpcommon.py:109: DeprecationWarning: DataFrames with non-bool types result in worse computationalperformance and their support might be discontinued in the future.Please use a DataFrame with bool type\n",
            "  warnings.warn(\n"
          ]
        }
      ],
      "source": [
        "import pandas as pd\n",
        "import time\n",
        "from mlxtend.frequent_patterns import apriori\n",
        "\n",
        "min_support = 0.1\n",
        "\n",
        "start_time = time.time()\n",
        "frequent_itemsets = apriori(titanic_small, min_support=min_support, use_colnames=True)\n",
        "end_time = time.time()\n",
        "\n",
        "titanic_small_frequent_itemsets_time = end_time - start_time\n",
        "print(titanic_small_frequent_itemsets_time)"
      ]
    },
    {
      "cell_type": "code",
      "execution_count": 15,
      "metadata": {
        "colab": {
          "base_uri": "https://localhost:8080/"
        },
        "id": "2FonRW9jfh2b",
        "outputId": "47464e99-248f-4166-9894-cebf0044cf0a"
      },
      "outputs": [
        {
          "output_type": "stream",
          "name": "stdout",
          "text": [
            "0.0056269168853759766\n"
          ]
        },
        {
          "output_type": "stream",
          "name": "stderr",
          "text": [
            "/usr/local/lib/python3.10/dist-packages/ipykernel/ipkernel.py:283: DeprecationWarning: `should_run_async` will not call `transform_cell` automatically in the future. Please pass the result to `transformed_cell` argument and any exception that happen during thetransform in `preprocessing_exc_tuple` in IPython 7.17 and above.\n",
            "  and should_run_async(code)\n"
          ]
        }
      ],
      "source": [
        "from mlxtend.frequent_patterns import association_rules\n",
        "\n",
        "min_confidence = 0.7\n",
        "start_time = time.time()\n",
        "rules = association_rules(frequent_itemsets, metric=\"confidence\", min_threshold=min_confidence)\n",
        "end_time = time.time()\n",
        "\n",
        "titanic_small_high_confidence_rule_generation = end_time - start_time\n",
        "print(titanic_small_high_confidence_rule_generation)"
      ]
    },
    {
      "cell_type": "markdown",
      "metadata": {
        "id": "wzna6vx2e4VQ"
      },
      "source": [
        "#### Running Apriori algorithm on Medium Titanic dataset"
      ]
    },
    {
      "cell_type": "code",
      "execution_count": 16,
      "metadata": {
        "colab": {
          "base_uri": "https://localhost:8080/"
        },
        "id": "BzpjSbFBeR0n",
        "outputId": "e3090f70-c930-4ab1-cd08-9a8cbac30f2b"
      },
      "outputs": [
        {
          "output_type": "stream",
          "name": "stderr",
          "text": [
            "/usr/local/lib/python3.10/dist-packages/ipykernel/ipkernel.py:283: DeprecationWarning: `should_run_async` will not call `transform_cell` automatically in the future. Please pass the result to `transformed_cell` argument and any exception that happen during thetransform in `preprocessing_exc_tuple` in IPython 7.17 and above.\n",
            "  and should_run_async(code)\n"
          ]
        }
      ],
      "source": [
        "titanic_medium = pd.read_pickle('/content/drive/MyDrive/NTU MSIS/IN6227/Assignment 2/preprocessed_datasets/titanic_medium.pkl')\n",
        "titanic_medium = titanic_medium['statistics'].str.join('|').str.get_dummies()"
      ]
    },
    {
      "cell_type": "code",
      "execution_count": 17,
      "metadata": {
        "colab": {
          "base_uri": "https://localhost:8080/"
        },
        "id": "ZocW1MWekmBV",
        "outputId": "4412430c-ed92-4cc2-ad2b-0103e5d15a24"
      },
      "outputs": [
        {
          "output_type": "stream",
          "name": "stdout",
          "text": [
            "0.019095182418823242\n"
          ]
        },
        {
          "output_type": "stream",
          "name": "stderr",
          "text": [
            "/usr/local/lib/python3.10/dist-packages/ipykernel/ipkernel.py:283: DeprecationWarning: `should_run_async` will not call `transform_cell` automatically in the future. Please pass the result to `transformed_cell` argument and any exception that happen during thetransform in `preprocessing_exc_tuple` in IPython 7.17 and above.\n",
            "  and should_run_async(code)\n",
            "/usr/local/lib/python3.10/dist-packages/mlxtend/frequent_patterns/fpcommon.py:109: DeprecationWarning: DataFrames with non-bool types result in worse computationalperformance and their support might be discontinued in the future.Please use a DataFrame with bool type\n",
            "  warnings.warn(\n"
          ]
        }
      ],
      "source": [
        "import pandas as pd\n",
        "import time\n",
        "from mlxtend.frequent_patterns import apriori\n",
        "\n",
        "min_support = 0.1\n",
        "\n",
        "start_time = time.time()\n",
        "frequent_itemsets = apriori(titanic_medium, min_support=min_support, use_colnames=True)\n",
        "end_time = time.time()\n",
        "\n",
        "titanic_medium_frequent_itemsets_time = end_time - start_time\n",
        "print(titanic_medium_frequent_itemsets_time)"
      ]
    },
    {
      "cell_type": "code",
      "execution_count": 18,
      "metadata": {
        "colab": {
          "base_uri": "https://localhost:8080/"
        },
        "id": "AljK9r9nkmBW",
        "outputId": "851d53a7-d52c-4455-d85b-1e895a05b06e"
      },
      "outputs": [
        {
          "output_type": "stream",
          "name": "stdout",
          "text": [
            "0.008437871932983398\n"
          ]
        },
        {
          "output_type": "stream",
          "name": "stderr",
          "text": [
            "/usr/local/lib/python3.10/dist-packages/ipykernel/ipkernel.py:283: DeprecationWarning: `should_run_async` will not call `transform_cell` automatically in the future. Please pass the result to `transformed_cell` argument and any exception that happen during thetransform in `preprocessing_exc_tuple` in IPython 7.17 and above.\n",
            "  and should_run_async(code)\n"
          ]
        }
      ],
      "source": [
        "from mlxtend.frequent_patterns import association_rules\n",
        "\n",
        "min_confidence = 0.7\n",
        "start_time = time.time()\n",
        "rules = association_rules(frequent_itemsets, metric=\"confidence\", min_threshold=min_confidence)\n",
        "end_time = time.time()\n",
        "\n",
        "titanic_medium_high_confidence_rule_generation = end_time - start_time\n",
        "print(titanic_medium_high_confidence_rule_generation)"
      ]
    },
    {
      "cell_type": "markdown",
      "metadata": {
        "id": "tbJrUtfme7C0"
      },
      "source": [
        "#### Running Apriori algorithm on Large Titanic dataset"
      ]
    },
    {
      "cell_type": "code",
      "execution_count": 19,
      "metadata": {
        "colab": {
          "base_uri": "https://localhost:8080/"
        },
        "id": "YlV4ErbZeWWU",
        "outputId": "13efe08c-ee5a-470b-c7ac-7805d4640928"
      },
      "outputs": [
        {
          "output_type": "stream",
          "name": "stderr",
          "text": [
            "/usr/local/lib/python3.10/dist-packages/ipykernel/ipkernel.py:283: DeprecationWarning: `should_run_async` will not call `transform_cell` automatically in the future. Please pass the result to `transformed_cell` argument and any exception that happen during thetransform in `preprocessing_exc_tuple` in IPython 7.17 and above.\n",
            "  and should_run_async(code)\n"
          ]
        }
      ],
      "source": [
        "titanic_large = pd.read_pickle('/content/drive/MyDrive/NTU MSIS/IN6227/Assignment 2/preprocessed_datasets/titanic_large.pkl')\n",
        "titanic_large = titanic_large['statistics'].str.join('|').str.get_dummies()"
      ]
    },
    {
      "cell_type": "code",
      "execution_count": 20,
      "metadata": {
        "colab": {
          "base_uri": "https://localhost:8080/"
        },
        "id": "_6x2OWzSlb1G",
        "outputId": "67a1809e-9c78-42af-b2ca-6dccf3329f7a"
      },
      "outputs": [
        {
          "output_type": "stream",
          "name": "stderr",
          "text": [
            "/usr/local/lib/python3.10/dist-packages/ipykernel/ipkernel.py:283: DeprecationWarning: `should_run_async` will not call `transform_cell` automatically in the future. Please pass the result to `transformed_cell` argument and any exception that happen during thetransform in `preprocessing_exc_tuple` in IPython 7.17 and above.\n",
            "  and should_run_async(code)\n",
            "/usr/local/lib/python3.10/dist-packages/mlxtend/frequent_patterns/fpcommon.py:109: DeprecationWarning: DataFrames with non-bool types result in worse computationalperformance and their support might be discontinued in the future.Please use a DataFrame with bool type\n",
            "  warnings.warn(\n"
          ]
        },
        {
          "output_type": "stream",
          "name": "stdout",
          "text": [
            "0.26012325286865234\n"
          ]
        }
      ],
      "source": [
        "import pandas as pd\n",
        "import time\n",
        "from mlxtend.frequent_patterns import apriori\n",
        "\n",
        "min_support = 0.1\n",
        "\n",
        "start_time = time.time()\n",
        "frequent_itemsets = apriori(titanic_large, min_support=min_support, use_colnames=True)\n",
        "end_time = time.time()\n",
        "\n",
        "titanic_large_frequent_itemsets_time = end_time - start_time\n",
        "print(titanic_large_frequent_itemsets_time)"
      ]
    },
    {
      "cell_type": "code",
      "execution_count": 21,
      "metadata": {
        "colab": {
          "base_uri": "https://localhost:8080/"
        },
        "id": "ySH1P94qlb1H",
        "outputId": "345387a6-0bd7-4c03-8794-c9a30fd0e3c2"
      },
      "outputs": [
        {
          "output_type": "stream",
          "name": "stdout",
          "text": [
            "0.009075164794921875\n"
          ]
        },
        {
          "output_type": "stream",
          "name": "stderr",
          "text": [
            "/usr/local/lib/python3.10/dist-packages/ipykernel/ipkernel.py:283: DeprecationWarning: `should_run_async` will not call `transform_cell` automatically in the future. Please pass the result to `transformed_cell` argument and any exception that happen during thetransform in `preprocessing_exc_tuple` in IPython 7.17 and above.\n",
            "  and should_run_async(code)\n"
          ]
        }
      ],
      "source": [
        "from mlxtend.frequent_patterns import association_rules\n",
        "\n",
        "min_confidence = 0.7\n",
        "start_time = time.time()\n",
        "rules = association_rules(frequent_itemsets, metric=\"confidence\", min_threshold=min_confidence)\n",
        "end_time = time.time()\n",
        "\n",
        "titanic_large_high_confidence_rule_generation = end_time - start_time\n",
        "print(titanic_large_high_confidence_rule_generation)"
      ]
    },
    {
      "cell_type": "markdown",
      "metadata": {
        "id": "Z8BLA4kse-GZ"
      },
      "source": [
        "#### Running Apriori algorithm on X-Large Titanic dataset"
      ]
    },
    {
      "cell_type": "code",
      "execution_count": 22,
      "metadata": {
        "colab": {
          "base_uri": "https://localhost:8080/"
        },
        "id": "ASiWwK3LHwSX",
        "outputId": "197d077c-c05b-46b1-c2b0-217d55718949"
      },
      "outputs": [
        {
          "output_type": "stream",
          "name": "stderr",
          "text": [
            "/usr/local/lib/python3.10/dist-packages/ipykernel/ipkernel.py:283: DeprecationWarning: `should_run_async` will not call `transform_cell` automatically in the future. Please pass the result to `transformed_cell` argument and any exception that happen during thetransform in `preprocessing_exc_tuple` in IPython 7.17 and above.\n",
            "  and should_run_async(code)\n"
          ]
        }
      ],
      "source": [
        "titanic_xlarge = pd.read_pickle('/content/drive/MyDrive/NTU MSIS/IN6227/Assignment 2/preprocessed_datasets/titanic_xlarge.pkl')\n",
        "titanic_xlarge = titanic_xlarge['statistics'].str.join('|').str.get_dummies()"
      ]
    },
    {
      "cell_type": "code",
      "execution_count": 23,
      "metadata": {
        "colab": {
          "base_uri": "https://localhost:8080/"
        },
        "id": "8-gF1A8Fl0be",
        "outputId": "b3ac3101-7410-4a1b-ac1e-6d946832b93b"
      },
      "outputs": [
        {
          "output_type": "stream",
          "name": "stderr",
          "text": [
            "/usr/local/lib/python3.10/dist-packages/ipykernel/ipkernel.py:283: DeprecationWarning: `should_run_async` will not call `transform_cell` automatically in the future. Please pass the result to `transformed_cell` argument and any exception that happen during thetransform in `preprocessing_exc_tuple` in IPython 7.17 and above.\n",
            "  and should_run_async(code)\n",
            "/usr/local/lib/python3.10/dist-packages/mlxtend/frequent_patterns/fpcommon.py:109: DeprecationWarning: DataFrames with non-bool types result in worse computationalperformance and their support might be discontinued in the future.Please use a DataFrame with bool type\n",
            "  warnings.warn(\n"
          ]
        },
        {
          "output_type": "stream",
          "name": "stdout",
          "text": [
            "0.7634987831115723\n"
          ]
        }
      ],
      "source": [
        "import pandas as pd\n",
        "import time\n",
        "from mlxtend.frequent_patterns import apriori\n",
        "\n",
        "min_support = 0.1\n",
        "\n",
        "start_time = time.time()\n",
        "frequent_itemsets = apriori(titanic_xlarge, min_support=min_support, use_colnames=True)\n",
        "end_time = time.time()\n",
        "\n",
        "titanic_xlarge_frequent_itemsets_time = end_time - start_time\n",
        "print(titanic_xlarge_frequent_itemsets_time)"
      ]
    },
    {
      "cell_type": "code",
      "execution_count": 24,
      "metadata": {
        "colab": {
          "base_uri": "https://localhost:8080/"
        },
        "id": "69wwmaUul0bf",
        "outputId": "a79460f6-f914-42ec-f54b-1d74dead3bb3"
      },
      "outputs": [
        {
          "output_type": "stream",
          "name": "stdout",
          "text": [
            "0.00548100471496582\n"
          ]
        },
        {
          "output_type": "stream",
          "name": "stderr",
          "text": [
            "/usr/local/lib/python3.10/dist-packages/ipykernel/ipkernel.py:283: DeprecationWarning: `should_run_async` will not call `transform_cell` automatically in the future. Please pass the result to `transformed_cell` argument and any exception that happen during thetransform in `preprocessing_exc_tuple` in IPython 7.17 and above.\n",
            "  and should_run_async(code)\n"
          ]
        }
      ],
      "source": [
        "from mlxtend.frequent_patterns import association_rules\n",
        "\n",
        "min_confidence = 0.7\n",
        "start_time = time.time()\n",
        "rules = association_rules(frequent_itemsets, metric=\"confidence\", min_threshold=min_confidence)\n",
        "end_time = time.time()\n",
        "\n",
        "titanic_xlarge_high_confidence_rule_generation = end_time - start_time\n",
        "print(titanic_xlarge_high_confidence_rule_generation)"
      ]
    },
    {
      "cell_type": "markdown",
      "metadata": {
        "id": "dU9POAKP6Y9p"
      },
      "source": [
        "### Restaurant dataset"
      ]
    },
    {
      "cell_type": "markdown",
      "metadata": {
        "id": "YqJu1fVy6gh1"
      },
      "source": [
        "#### Running Apriori algorithm on Small Restaurant dataset"
      ]
    },
    {
      "cell_type": "code",
      "execution_count": 38,
      "metadata": {
        "colab": {
          "base_uri": "https://localhost:8080/"
        },
        "id": "_JeSm7VG7eL8",
        "outputId": "5e252222-4338-4cb2-9069-c0101803082e"
      },
      "outputs": [
        {
          "output_type": "stream",
          "name": "stderr",
          "text": [
            "/usr/local/lib/python3.10/dist-packages/ipykernel/ipkernel.py:283: DeprecationWarning: `should_run_async` will not call `transform_cell` automatically in the future. Please pass the result to `transformed_cell` argument and any exception that happen during thetransform in `preprocessing_exc_tuple` in IPython 7.17 and above.\n",
            "  and should_run_async(code)\n"
          ]
        }
      ],
      "source": [
        "restaurants_small = pd.read_pickle('/content/drive/MyDrive/NTU MSIS/IN6227/Assignment 2/preprocessed_datasets/restaurants_small.pkl')\n",
        "restaurants_small = restaurants_small['items'].str.join('|').str.get_dummies()"
      ]
    },
    {
      "cell_type": "code",
      "execution_count": 39,
      "metadata": {
        "colab": {
          "base_uri": "https://localhost:8080/"
        },
        "id": "ZWapBioZ7uvm",
        "outputId": "e760c32d-1fc5-4673-ae52-246114661108"
      },
      "outputs": [
        {
          "output_type": "stream",
          "name": "stdout",
          "text": [
            "0.009494781494140625\n"
          ]
        },
        {
          "output_type": "stream",
          "name": "stderr",
          "text": [
            "/usr/local/lib/python3.10/dist-packages/ipykernel/ipkernel.py:283: DeprecationWarning: `should_run_async` will not call `transform_cell` automatically in the future. Please pass the result to `transformed_cell` argument and any exception that happen during thetransform in `preprocessing_exc_tuple` in IPython 7.17 and above.\n",
            "  and should_run_async(code)\n",
            "/usr/local/lib/python3.10/dist-packages/mlxtend/frequent_patterns/fpcommon.py:109: DeprecationWarning: DataFrames with non-bool types result in worse computationalperformance and their support might be discontinued in the future.Please use a DataFrame with bool type\n",
            "  warnings.warn(\n"
          ]
        }
      ],
      "source": [
        "import pandas as pd\n",
        "import time\n",
        "from mlxtend.frequent_patterns import apriori\n",
        "\n",
        "min_support = 0.1\n",
        "\n",
        "start_time = time.time()\n",
        "frequent_itemsets = apriori(restaurants_small, min_support=min_support, use_colnames=True)\n",
        "end_time = time.time()\n",
        "\n",
        "restaurants_small_frequent_itemsets_time = end_time - start_time\n",
        "print(restaurants_small_frequent_itemsets_time)"
      ]
    },
    {
      "cell_type": "code",
      "execution_count": 40,
      "metadata": {
        "colab": {
          "base_uri": "https://localhost:8080/"
        },
        "id": "d6RmFgHe7z2x",
        "outputId": "98b2bdd3-63d4-4e63-8313-58ace589cb60"
      },
      "outputs": [
        {
          "output_type": "stream",
          "name": "stdout",
          "text": [
            "0.0040683746337890625\n"
          ]
        },
        {
          "output_type": "stream",
          "name": "stderr",
          "text": [
            "/usr/local/lib/python3.10/dist-packages/ipykernel/ipkernel.py:283: DeprecationWarning: `should_run_async` will not call `transform_cell` automatically in the future. Please pass the result to `transformed_cell` argument and any exception that happen during thetransform in `preprocessing_exc_tuple` in IPython 7.17 and above.\n",
            "  and should_run_async(code)\n"
          ]
        }
      ],
      "source": [
        "from mlxtend.frequent_patterns import association_rules\n",
        "\n",
        "min_confidence = 0.7\n",
        "start_time = time.time()\n",
        "rules = association_rules(frequent_itemsets, metric=\"confidence\", min_threshold=min_confidence)\n",
        "end_time = time.time()\n",
        "\n",
        "restaurants_small_high_confidence_rule_generation = end_time - start_time\n",
        "print(restaurants_small_high_confidence_rule_generation)"
      ]
    },
    {
      "cell_type": "markdown",
      "metadata": {
        "id": "tSRwDxZr7_Ni"
      },
      "source": [
        "#### Running Apriori algorithm on Medium Restaurant dataset"
      ]
    },
    {
      "cell_type": "code",
      "execution_count": 41,
      "metadata": {
        "colab": {
          "base_uri": "https://localhost:8080/"
        },
        "id": "ceiCAzT-8BOl",
        "outputId": "761e5c66-a572-41a2-d7ea-031ea6afcf74"
      },
      "outputs": [
        {
          "output_type": "stream",
          "name": "stderr",
          "text": [
            "/usr/local/lib/python3.10/dist-packages/ipykernel/ipkernel.py:283: DeprecationWarning: `should_run_async` will not call `transform_cell` automatically in the future. Please pass the result to `transformed_cell` argument and any exception that happen during thetransform in `preprocessing_exc_tuple` in IPython 7.17 and above.\n",
            "  and should_run_async(code)\n"
          ]
        }
      ],
      "source": [
        "restaurants_medium = pd.read_pickle('/content/drive/MyDrive/NTU MSIS/IN6227/Assignment 2/preprocessed_datasets/restaurants_medium.pkl')\n",
        "restaurants_medium = restaurants_medium['items'].str.join('|').str.get_dummies()"
      ]
    },
    {
      "cell_type": "code",
      "execution_count": 42,
      "metadata": {
        "colab": {
          "base_uri": "https://localhost:8080/"
        },
        "id": "yoeevqf18KBR",
        "outputId": "ae3de5f6-f7fe-4d5c-bb2d-0ddfeda9f938"
      },
      "outputs": [
        {
          "output_type": "stream",
          "name": "stdout",
          "text": [
            "0.01646733283996582\n"
          ]
        },
        {
          "output_type": "stream",
          "name": "stderr",
          "text": [
            "/usr/local/lib/python3.10/dist-packages/ipykernel/ipkernel.py:283: DeprecationWarning: `should_run_async` will not call `transform_cell` automatically in the future. Please pass the result to `transformed_cell` argument and any exception that happen during thetransform in `preprocessing_exc_tuple` in IPython 7.17 and above.\n",
            "  and should_run_async(code)\n",
            "/usr/local/lib/python3.10/dist-packages/mlxtend/frequent_patterns/fpcommon.py:109: DeprecationWarning: DataFrames with non-bool types result in worse computationalperformance and their support might be discontinued in the future.Please use a DataFrame with bool type\n",
            "  warnings.warn(\n"
          ]
        }
      ],
      "source": [
        "import pandas as pd\n",
        "import time\n",
        "from mlxtend.frequent_patterns import apriori\n",
        "\n",
        "min_support = 0.1\n",
        "\n",
        "start_time = time.time()\n",
        "frequent_itemsets = apriori(restaurants_medium, min_support=min_support, use_colnames=True)\n",
        "end_time = time.time()\n",
        "\n",
        "restaurants_medium_frequent_itemsets_time = end_time - start_time\n",
        "print(restaurants_medium_frequent_itemsets_time)"
      ]
    },
    {
      "cell_type": "code",
      "execution_count": 43,
      "metadata": {
        "colab": {
          "base_uri": "https://localhost:8080/"
        },
        "id": "FUEbbwCK8Taa",
        "outputId": "c1fe4849-9cff-469e-caf5-7f9687272195"
      },
      "outputs": [
        {
          "output_type": "stream",
          "name": "stdout",
          "text": [
            "0.001999378204345703\n"
          ]
        },
        {
          "output_type": "stream",
          "name": "stderr",
          "text": [
            "/usr/local/lib/python3.10/dist-packages/ipykernel/ipkernel.py:283: DeprecationWarning: `should_run_async` will not call `transform_cell` automatically in the future. Please pass the result to `transformed_cell` argument and any exception that happen during thetransform in `preprocessing_exc_tuple` in IPython 7.17 and above.\n",
            "  and should_run_async(code)\n"
          ]
        }
      ],
      "source": [
        "from mlxtend.frequent_patterns import association_rules\n",
        "\n",
        "min_confidence = 0.7\n",
        "start_time = time.time()\n",
        "rules = association_rules(frequent_itemsets, metric=\"confidence\", min_threshold=min_confidence)\n",
        "end_time = time.time()\n",
        "\n",
        "restaurants_medium_high_confidence_rule_generation = end_time - start_time\n",
        "print(restaurants_medium_high_confidence_rule_generation)"
      ]
    },
    {
      "cell_type": "markdown",
      "metadata": {
        "id": "lex_T8zX8dCk"
      },
      "source": [
        "#### Running Apriori algorithm on Large Restaurant dataset"
      ]
    },
    {
      "cell_type": "code",
      "execution_count": 44,
      "metadata": {
        "colab": {
          "base_uri": "https://localhost:8080/"
        },
        "id": "lIDgZJy18blN",
        "outputId": "38778a53-51b4-48ad-f002-dc8a281af221"
      },
      "outputs": [
        {
          "output_type": "stream",
          "name": "stderr",
          "text": [
            "/usr/local/lib/python3.10/dist-packages/ipykernel/ipkernel.py:283: DeprecationWarning: `should_run_async` will not call `transform_cell` automatically in the future. Please pass the result to `transformed_cell` argument and any exception that happen during thetransform in `preprocessing_exc_tuple` in IPython 7.17 and above.\n",
            "  and should_run_async(code)\n"
          ]
        }
      ],
      "source": [
        "restaurants_large = pd.read_pickle('/content/drive/MyDrive/NTU MSIS/IN6227/Assignment 2/preprocessed_datasets/restaurants_large.pkl')\n",
        "restaurants_large = restaurants_large['items'].str.join('|').str.get_dummies()"
      ]
    },
    {
      "cell_type": "code",
      "execution_count": 45,
      "metadata": {
        "colab": {
          "base_uri": "https://localhost:8080/"
        },
        "id": "JFG1Q1QD8ouc",
        "outputId": "543727da-5306-4b60-a235-d66bee05a6ee"
      },
      "outputs": [
        {
          "output_type": "stream",
          "name": "stderr",
          "text": [
            "/usr/local/lib/python3.10/dist-packages/ipykernel/ipkernel.py:283: DeprecationWarning: `should_run_async` will not call `transform_cell` automatically in the future. Please pass the result to `transformed_cell` argument and any exception that happen during thetransform in `preprocessing_exc_tuple` in IPython 7.17 and above.\n",
            "  and should_run_async(code)\n",
            "/usr/local/lib/python3.10/dist-packages/mlxtend/frequent_patterns/fpcommon.py:109: DeprecationWarning: DataFrames with non-bool types result in worse computationalperformance and their support might be discontinued in the future.Please use a DataFrame with bool type\n",
            "  warnings.warn(\n"
          ]
        },
        {
          "output_type": "stream",
          "name": "stdout",
          "text": [
            "0.35901570320129395\n"
          ]
        }
      ],
      "source": [
        "import pandas as pd\n",
        "import time\n",
        "from mlxtend.frequent_patterns import apriori\n",
        "\n",
        "min_support = 0.1\n",
        "\n",
        "start_time = time.time()\n",
        "frequent_itemsets = apriori(restaurants_large, min_support=min_support, use_colnames=True)\n",
        "end_time = time.time()\n",
        "\n",
        "restaurants_large_frequent_itemsets_time = end_time - start_time\n",
        "print(restaurants_large_frequent_itemsets_time)"
      ]
    },
    {
      "cell_type": "code",
      "execution_count": 46,
      "metadata": {
        "colab": {
          "base_uri": "https://localhost:8080/"
        },
        "id": "3j2j2mwY8yA5",
        "outputId": "495a23c6-ab3f-42ab-92f1-3c042d221cf1"
      },
      "outputs": [
        {
          "output_type": "stream",
          "name": "stdout",
          "text": [
            "0.002599000930786133\n"
          ]
        },
        {
          "output_type": "stream",
          "name": "stderr",
          "text": [
            "/usr/local/lib/python3.10/dist-packages/ipykernel/ipkernel.py:283: DeprecationWarning: `should_run_async` will not call `transform_cell` automatically in the future. Please pass the result to `transformed_cell` argument and any exception that happen during thetransform in `preprocessing_exc_tuple` in IPython 7.17 and above.\n",
            "  and should_run_async(code)\n"
          ]
        }
      ],
      "source": [
        "from mlxtend.frequent_patterns import association_rules\n",
        "\n",
        "min_confidence = 0.7\n",
        "start_time = time.time()\n",
        "rules = association_rules(frequent_itemsets, metric=\"confidence\", min_threshold=min_confidence)\n",
        "end_time = time.time()\n",
        "\n",
        "restaurants_large_high_confidence_rule_generation = end_time - start_time\n",
        "print(restaurants_large_high_confidence_rule_generation)"
      ]
    },
    {
      "cell_type": "markdown",
      "metadata": {
        "id": "P69esQ7080ss"
      },
      "source": [
        "#### Running Apriori algorithm on X-Large Restaurant dataset"
      ]
    },
    {
      "cell_type": "code",
      "execution_count": 50,
      "metadata": {
        "colab": {
          "base_uri": "https://localhost:8080/"
        },
        "id": "CscxIKKZ83VX",
        "outputId": "6ae10f88-3c12-475a-85e5-709a9a2ea5c1"
      },
      "outputs": [
        {
          "output_type": "stream",
          "name": "stderr",
          "text": [
            "/usr/local/lib/python3.10/dist-packages/ipykernel/ipkernel.py:283: DeprecationWarning: `should_run_async` will not call `transform_cell` automatically in the future. Please pass the result to `transformed_cell` argument and any exception that happen during thetransform in `preprocessing_exc_tuple` in IPython 7.17 and above.\n",
            "  and should_run_async(code)\n"
          ]
        }
      ],
      "source": [
        "restaurants_xlarge = pd.read_pickle('/content/drive/MyDrive/NTU MSIS/IN6227/Assignment 2/preprocessed_datasets/restaurants_xlarge.pkl')\n",
        "restaurants_xlarge = restaurants_xlarge['items'].str.join('|').str.get_dummies()"
      ]
    },
    {
      "cell_type": "code",
      "execution_count": 51,
      "metadata": {
        "colab": {
          "base_uri": "https://localhost:8080/"
        },
        "id": "ReAawQx988kx",
        "outputId": "258fedfa-075a-472a-92c5-04b52ceeef2d"
      },
      "outputs": [
        {
          "output_type": "stream",
          "name": "stderr",
          "text": [
            "/usr/local/lib/python3.10/dist-packages/ipykernel/ipkernel.py:283: DeprecationWarning: `should_run_async` will not call `transform_cell` automatically in the future. Please pass the result to `transformed_cell` argument and any exception that happen during thetransform in `preprocessing_exc_tuple` in IPython 7.17 and above.\n",
            "  and should_run_async(code)\n",
            "/usr/local/lib/python3.10/dist-packages/mlxtend/frequent_patterns/fpcommon.py:109: DeprecationWarning: DataFrames with non-bool types result in worse computationalperformance and their support might be discontinued in the future.Please use a DataFrame with bool type\n",
            "  warnings.warn(\n"
          ]
        },
        {
          "output_type": "stream",
          "name": "stdout",
          "text": [
            "0.8390617370605469\n"
          ]
        }
      ],
      "source": [
        "import pandas as pd\n",
        "import time\n",
        "from mlxtend.frequent_patterns import apriori\n",
        "\n",
        "min_support = 0.1\n",
        "\n",
        "start_time = time.time()\n",
        "frequent_itemsets = apriori(restaurants_xlarge, min_support=min_support, use_colnames=True)\n",
        "end_time = time.time()\n",
        "\n",
        "restaurants_xlarge_frequent_itemsets_time = end_time - start_time\n",
        "print(restaurants_xlarge_frequent_itemsets_time)"
      ]
    },
    {
      "cell_type": "code",
      "execution_count": 52,
      "metadata": {
        "colab": {
          "base_uri": "https://localhost:8080/"
        },
        "id": "m7bgYXvo9AAQ",
        "outputId": "26a5a97f-302f-45e0-e7ed-757047f8bab9"
      },
      "outputs": [
        {
          "output_type": "stream",
          "name": "stdout",
          "text": [
            "0.0027778148651123047\n"
          ]
        },
        {
          "output_type": "stream",
          "name": "stderr",
          "text": [
            "/usr/local/lib/python3.10/dist-packages/ipykernel/ipkernel.py:283: DeprecationWarning: `should_run_async` will not call `transform_cell` automatically in the future. Please pass the result to `transformed_cell` argument and any exception that happen during thetransform in `preprocessing_exc_tuple` in IPython 7.17 and above.\n",
            "  and should_run_async(code)\n"
          ]
        }
      ],
      "source": [
        "from mlxtend.frequent_patterns import association_rules\n",
        "\n",
        "min_confidence = 0.7\n",
        "start_time = time.time()\n",
        "rules = association_rules(frequent_itemsets, metric=\"confidence\", min_threshold=min_confidence)\n",
        "end_time = time.time()\n",
        "\n",
        "titanic_xlarge_high_confidence_rule_generation = end_time - start_time\n",
        "print(titanic_xlarge_high_confidence_rule_generation)"
      ]
    },
    {
      "cell_type": "markdown",
      "metadata": {
        "id": "levKuMC29Oi3"
      },
      "source": [
        "## Brute-force implementation"
      ]
    },
    {
      "cell_type": "markdown",
      "metadata": {
        "id": "G195dMbw9Sg4"
      },
      "source": [
        "### Titanic dataset"
      ]
    },
    {
      "cell_type": "code",
      "source": [],
      "metadata": {
        "id": "4aNA3fiigbZy"
      },
      "execution_count": null,
      "outputs": []
    },
    {
      "cell_type": "markdown",
      "source": [
        "#### Measuring time taken for Small Titanic dataset"
      ],
      "metadata": {
        "id": "BKdF4Vm9poV9"
      }
    },
    {
      "cell_type": "code",
      "source": [
        "# Import small Titanic dataset\n",
        "titanic_small = pd.read_pickle('/content/drive/MyDrive/NTU MSIS/IN6227/Assignment 2/preprocessed_datasets/titanic_small.pkl')\n",
        "\n",
        "# Convert DataFrame to list of transactions\n",
        "transactions = [set(item_list) for item_list in titanic_small['statistics']]\n",
        "\n",
        "# Run Brute-Forcing code\n",
        "import time\n",
        "from itertools import combinations\n",
        "\n",
        "def get_unique_items(transactions):\n",
        "    # Get unique items from all transactions\n",
        "    unique_items = set()\n",
        "    for transaction in transactions:\n",
        "        unique_items.update(transaction)\n",
        "    return unique_items\n",
        "\n",
        "def generate_all_combinations(items):\n",
        "    # Generate all non-empty combinations of items\n",
        "    all_combinations = []\n",
        "    for i in range(1, len(items) + 1):\n",
        "        all_combinations.extend(combinations(items, i))\n",
        "    return all_combinations\n",
        "\n",
        "def calculate_support(itemset, transactions):\n",
        "    # Calculate support as the proportion of transactions that contain the itemset\n",
        "    count = sum(1 for transaction in transactions if set(itemset).issubset(transaction))\n",
        "    return count / len(transactions)\n",
        "\n",
        "def generate_subsets(itemset):\n",
        "    # Generate all non-empty subsets of an itemset\n",
        "    subsets = []\n",
        "    for i in range(1, len(itemset)):\n",
        "        subsets.extend(combinations(itemset, i))\n",
        "    return subsets\n",
        "\n",
        "def brute_force_association_rules(transactions, min_support, min_confidence):\n",
        "    # Measure time taken for frequent itemset generation\n",
        "    start_time = time.time()\n",
        "\n",
        "    # Step 1: Get all unique items from the transactions\n",
        "    items = get_unique_items(transactions)\n",
        "    print('Unique items:', len(items))\n",
        "\n",
        "    # Step 2: Generate all possible itemsets\n",
        "    all_itemsets = generate_all_combinations(items)\n",
        "\n",
        "    # Step 3: Calculate support for each itemset\n",
        "    itemset_support = {}\n",
        "    for itemset in all_itemsets:\n",
        "        support = calculate_support(itemset, transactions)\n",
        "        if support >= min_support:\n",
        "            itemset_support[itemset] = support\n",
        "\n",
        "    # Calculate time taken for frequent itemset generation\n",
        "    end_time = time.time()\n",
        "    frequent_itemsets_time_brute_force = end_time - start_time\n",
        "    print('Frequent itemsets:', frequent_itemsets_time_brute_force)\n",
        "\n",
        "    # Step 4: Generate association rules from itemsets with sufficient support\n",
        "    start_time = time.time()\n",
        "    association_rules = []\n",
        "    for itemset, support in itemset_support.items():\n",
        "        subsets = generate_subsets(itemset)\n",
        "        for subset in subsets:\n",
        "            antecedent = subset\n",
        "            consequent = tuple(set(itemset) - set(antecedent))\n",
        "            if consequent:\n",
        "                # Calculate confidence\n",
        "                antecedent_support = calculate_support(antecedent, transactions)\n",
        "                confidence = support / antecedent_support if antecedent_support > 0 else 0\n",
        "                if confidence >= min_confidence:\n",
        "                    rule = {\n",
        "                        'antecedent': antecedent,\n",
        "                        'consequent': consequent,\n",
        "                        'support': support,\n",
        "                        'confidence': confidence\n",
        "                    }\n",
        "                    association_rules.append(rule)\n",
        "\n",
        "    end_time = time.time()\n",
        "    rule_generation_time_brute_force = end_time - start_time\n",
        "    print('Rule generation:', rule_generation_time_brute_force)\n",
        "\n",
        "    return association_rules\n",
        "\n",
        "\n",
        "min_support = 0.1\n",
        "min_confidence = 0.7\n",
        "rules = brute_force_association_rules(transactions, min_support, min_confidence)\n",
        "\n",
        "for rule in rules:\n",
        "    print(f\"Rule: {rule['antecedent']} -> {rule['consequent']}, \"\n",
        "          f\"Support: {rule['support']:.2f}, Confidence: {rule['confidence']:.2f}\")"
      ],
      "metadata": {
        "colab": {
          "base_uri": "https://localhost:8080/"
        },
        "id": "r9o-NppjqmNc",
        "outputId": "c766f10d-3f60-4e62-cc1c-fe7b24a5b927"
      },
      "execution_count": 80,
      "outputs": [
        {
          "output_type": "stream",
          "name": "stdout",
          "text": [
            "Unique items: 6\n",
            "Frequent itemsets: 0.014304161071777344\n",
            "Rule generation: 0.007605075836181641\n",
            "Rule: ('Male',) -> ('Adult',), Support: 0.76, Confidence: 0.97\n",
            "Rule: ('Adult',) -> ('Male',), Support: 0.76, Confidence: 0.80\n",
            "Rule: ('Male',) -> ('No',), Support: 0.62, Confidence: 0.79\n",
            "Rule: ('No',) -> ('Male',), Support: 0.62, Confidence: 0.91\n",
            "Rule: ('Yes',) -> ('Adult',), Support: 0.29, Confidence: 0.92\n",
            "Rule: ('Female',) -> ('Yes',), Support: 0.15, Confidence: 0.72\n",
            "Rule: ('No',) -> ('Adult',), Support: 0.66, Confidence: 0.97\n",
            "Rule: ('Female',) -> ('Adult',), Support: 0.19, Confidence: 0.91\n",
            "Rule: ('Male', 'Yes') -> ('Adult',), Support: 0.15, Confidence: 0.91\n",
            "Rule: ('Male',) -> ('Adult', 'No'), Support: 0.61, Confidence: 0.78\n",
            "Rule: ('No',) -> ('Adult', 'Male'), Support: 0.61, Confidence: 0.89\n",
            "Rule: ('Male', 'Adult') -> ('No',), Support: 0.61, Confidence: 0.80\n",
            "Rule: ('Male', 'No') -> ('Adult',), Support: 0.61, Confidence: 0.98\n",
            "Rule: ('Adult', 'No') -> ('Male',), Support: 0.61, Confidence: 0.92\n",
            "Rule: ('Yes', 'Female') -> ('Adult',), Support: 0.14, Confidence: 0.93\n",
            "Rule: ('Adult', 'Female') -> ('Yes',), Support: 0.14, Confidence: 0.74\n"
          ]
        },
        {
          "output_type": "stream",
          "name": "stderr",
          "text": [
            "/usr/local/lib/python3.10/dist-packages/ipykernel/ipkernel.py:283: DeprecationWarning: `should_run_async` will not call `transform_cell` automatically in the future. Please pass the result to `transformed_cell` argument and any exception that happen during thetransform in `preprocessing_exc_tuple` in IPython 7.17 and above.\n",
            "  and should_run_async(code)\n"
          ]
        }
      ]
    },
    {
      "cell_type": "markdown",
      "source": [
        "#### Measuring time taken for Medium Titanic dataset"
      ],
      "metadata": {
        "id": "vCgEqMqVpqxV"
      }
    },
    {
      "cell_type": "code",
      "source": [
        "# Import Medium Titanic dataset\n",
        "titanic_medium = pd.read_pickle('/content/drive/MyDrive/NTU MSIS/IN6227/Assignment 2/preprocessed_datasets/titanic_medium.pkl')\n",
        "\n",
        "# Convert DataFrame to list of transactions\n",
        "transactions = [set(item_list) for item_list in titanic_medium['statistics']]\n",
        "\n",
        "# Run Brute-Forcing code\n",
        "import time\n",
        "from itertools import combinations\n",
        "\n",
        "def get_unique_items(transactions):\n",
        "    # Get unique items from all transactions\n",
        "    unique_items = set()\n",
        "    for transaction in transactions:\n",
        "        unique_items.update(transaction)\n",
        "    return unique_items\n",
        "\n",
        "def generate_all_combinations(items):\n",
        "    # Generate all non-empty combinations of items\n",
        "    all_combinations = []\n",
        "    for i in range(1, len(items) + 1):\n",
        "        all_combinations.extend(combinations(items, i))\n",
        "    return all_combinations\n",
        "\n",
        "def calculate_support(itemset, transactions):\n",
        "    # Calculate support as the proportion of transactions that contain the itemset\n",
        "    count = sum(1 for transaction in transactions if set(itemset).issubset(transaction))\n",
        "    return count / len(transactions)\n",
        "\n",
        "def generate_subsets(itemset):\n",
        "    # Generate all non-empty subsets of an itemset\n",
        "    subsets = []\n",
        "    for i in range(1, len(itemset)):\n",
        "        subsets.extend(combinations(itemset, i))\n",
        "    return subsets\n",
        "\n",
        "def brute_force_association_rules(transactions, min_support, min_confidence):\n",
        "    # Measure time taken for frequent itemset generation\n",
        "    start_time = time.time()\n",
        "\n",
        "    # Step 1: Get all unique items from the transactions\n",
        "    items = get_unique_items(transactions)\n",
        "    print('Unique items:', len(items))\n",
        "\n",
        "    # Step 2: Generate all possible itemsets\n",
        "    all_itemsets = generate_all_combinations(items)\n",
        "\n",
        "    # Step 3: Calculate support for each itemset\n",
        "    itemset_support = {}\n",
        "    for itemset in all_itemsets:\n",
        "        support = calculate_support(itemset, transactions)\n",
        "        if support >= min_support:\n",
        "            itemset_support[itemset] = support\n",
        "\n",
        "    # Calculate time taken for frequent itemset generation\n",
        "    end_time = time.time()\n",
        "    frequent_itemsets_time_brute_force = end_time - start_time\n",
        "    print('Frequent itemsets:', frequent_itemsets_time_brute_force)\n",
        "\n",
        "    # Step 4: Generate association rules from itemsets with sufficient support\n",
        "    start_time = time.time()\n",
        "    association_rules = []\n",
        "    for itemset, support in itemset_support.items():\n",
        "        subsets = generate_subsets(itemset)\n",
        "        for subset in subsets:\n",
        "            antecedent = subset\n",
        "            consequent = tuple(set(itemset) - set(antecedent))\n",
        "            if consequent:\n",
        "                # Calculate confidence\n",
        "                antecedent_support = calculate_support(antecedent, transactions)\n",
        "                confidence = support / antecedent_support if antecedent_support > 0 else 0\n",
        "                if confidence >= min_confidence:\n",
        "                    rule = {\n",
        "                        'antecedent': antecedent,\n",
        "                        'consequent': consequent,\n",
        "                        'support': support,\n",
        "                        'confidence': confidence\n",
        "                    }\n",
        "                    association_rules.append(rule)\n",
        "\n",
        "    end_time = time.time()\n",
        "    rule_generation_time_brute_force = end_time - start_time\n",
        "    print('Rule generation:', rule_generation_time_brute_force)\n",
        "\n",
        "    return association_rules\n",
        "\n",
        "\n",
        "min_support = 0.1\n",
        "min_confidence = 0.7\n",
        "rules = brute_force_association_rules(transactions, min_support, min_confidence)\n",
        "\n",
        "for rule in rules:\n",
        "    print(f\"Rule: {rule['antecedent']} -> {rule['consequent']}, \"\n",
        "          f\"Support: {rule['support']:.2f}, Confidence: {rule['confidence']:.2f}\")"
      ],
      "metadata": {
        "colab": {
          "base_uri": "https://localhost:8080/"
        },
        "id": "Ecu64l80qZ6U",
        "outputId": "19bc5475-cbff-4586-8019-b988960b153c"
      },
      "execution_count": 79,
      "outputs": [
        {
          "output_type": "stream",
          "name": "stderr",
          "text": [
            "/usr/local/lib/python3.10/dist-packages/ipykernel/ipkernel.py:283: DeprecationWarning: `should_run_async` will not call `transform_cell` automatically in the future. Please pass the result to `transformed_cell` argument and any exception that happen during thetransform in `preprocessing_exc_tuple` in IPython 7.17 and above.\n",
            "  and should_run_async(code)\n"
          ]
        },
        {
          "output_type": "stream",
          "name": "stdout",
          "text": [
            "Unique items: 6\n",
            "Frequent itemsets: 0.3214538097381592\n",
            "Rule generation: 0.1267397403717041\n",
            "Rule: ('Male',) -> ('Adult',), Support: 0.78, Confidence: 0.96\n",
            "Rule: ('Adult',) -> ('Male',), Support: 0.78, Confidence: 0.82\n",
            "Rule: ('Male',) -> ('No',), Support: 0.66, Confidence: 0.82\n",
            "Rule: ('No',) -> ('Male',), Support: 0.66, Confidence: 0.93\n",
            "Rule: ('Yes',) -> ('Adult',), Support: 0.26, Confidence: 0.92\n",
            "Rule: ('Female',) -> ('Yes',), Support: 0.14, Confidence: 0.73\n",
            "Rule: ('Adult',) -> ('No',), Support: 0.69, Confidence: 0.72\n",
            "Rule: ('No',) -> ('Adult',), Support: 0.69, Confidence: 0.96\n",
            "Rule: ('Female',) -> ('Adult',), Support: 0.17, Confidence: 0.90\n",
            "Rule: ('Male', 'Yes') -> ('Adult',), Support: 0.14, Confidence: 0.92\n",
            "Rule: ('Male',) -> ('Adult', 'No'), Support: 0.65, Confidence: 0.80\n",
            "Rule: ('No',) -> ('Adult', 'Male'), Support: 0.65, Confidence: 0.90\n",
            "Rule: ('Male', 'Adult') -> ('No',), Support: 0.65, Confidence: 0.83\n",
            "Rule: ('Male', 'No') -> ('Adult',), Support: 0.65, Confidence: 0.97\n",
            "Rule: ('Adult', 'No') -> ('Male',), Support: 0.65, Confidence: 0.94\n",
            "Rule: ('Yes', 'Female') -> ('Adult',), Support: 0.13, Confidence: 0.92\n",
            "Rule: ('Adult', 'Female') -> ('Yes',), Support: 0.13, Confidence: 0.74\n"
          ]
        }
      ]
    },
    {
      "cell_type": "markdown",
      "source": [
        "#### Measuring time taken for Large Titanic dataset"
      ],
      "metadata": {
        "id": "69jd6QPSptUd"
      }
    },
    {
      "cell_type": "code",
      "source": [
        "# Import Large Titanic dataset\n",
        "titanic_large = pd.read_pickle('/content/drive/MyDrive/NTU MSIS/IN6227/Assignment 2/preprocessed_datasets/titanic_large.pkl')\n",
        "\n",
        "# Convert DataFrame to list of transactions\n",
        "transactions = [set(item_list) for item_list in titanic_large['statistics']]\n",
        "\n",
        "# Run Brute-Forcing code\n",
        "import time\n",
        "from itertools import combinations\n",
        "\n",
        "def get_unique_items(transactions):\n",
        "    # Get unique items from all transactions\n",
        "    unique_items = set()\n",
        "    for transaction in transactions:\n",
        "        unique_items.update(transaction)\n",
        "    return unique_items\n",
        "\n",
        "def generate_all_combinations(items):\n",
        "    # Generate all non-empty combinations of items\n",
        "    all_combinations = []\n",
        "    for i in range(1, len(items) + 1):\n",
        "        all_combinations.extend(combinations(items, i))\n",
        "    return all_combinations\n",
        "\n",
        "def calculate_support(itemset, transactions):\n",
        "    # Calculate support as the proportion of transactions that contain the itemset\n",
        "    count = sum(1 for transaction in transactions if set(itemset).issubset(transaction))\n",
        "    return count / len(transactions)\n",
        "\n",
        "def generate_subsets(itemset):\n",
        "    # Generate all non-empty subsets of an itemset\n",
        "    subsets = []\n",
        "    for i in range(1, len(itemset)):\n",
        "        subsets.extend(combinations(itemset, i))\n",
        "    return subsets\n",
        "\n",
        "def brute_force_association_rules(transactions, min_support, min_confidence):\n",
        "    # Measure time taken for frequent itemset generation\n",
        "    start_time = time.time()\n",
        "\n",
        "    # Step 1: Get all unique items from the transactions\n",
        "    items = get_unique_items(transactions)\n",
        "    print('Unique items:', len(items))\n",
        "\n",
        "    # Step 2: Generate all possible itemsets\n",
        "    all_itemsets = generate_all_combinations(items)\n",
        "\n",
        "    # Step 3: Calculate support for each itemset\n",
        "    itemset_support = {}\n",
        "    for itemset in all_itemsets:\n",
        "        support = calculate_support(itemset, transactions)\n",
        "        if support >= min_support:\n",
        "            itemset_support[itemset] = support\n",
        "\n",
        "    # Calculate time taken for frequent itemset generation\n",
        "    end_time = time.time()\n",
        "    frequent_itemsets_time_brute_force = end_time - start_time\n",
        "    print('Frequent itemsets:', frequent_itemsets_time_brute_force)\n",
        "\n",
        "    # Step 4: Generate association rules from itemsets with sufficient support\n",
        "    start_time = time.time()\n",
        "    association_rules = []\n",
        "    for itemset, support in itemset_support.items():\n",
        "        subsets = generate_subsets(itemset)\n",
        "        for subset in subsets:\n",
        "            antecedent = subset\n",
        "            consequent = tuple(set(itemset) - set(antecedent))\n",
        "            if consequent:\n",
        "                # Calculate confidence\n",
        "                antecedent_support = calculate_support(antecedent, transactions)\n",
        "                confidence = support / antecedent_support if antecedent_support > 0 else 0\n",
        "                if confidence >= min_confidence:\n",
        "                    rule = {\n",
        "                        'antecedent': antecedent,\n",
        "                        'consequent': consequent,\n",
        "                        'support': support,\n",
        "                        'confidence': confidence\n",
        "                    }\n",
        "                    association_rules.append(rule)\n",
        "\n",
        "    end_time = time.time()\n",
        "    rule_generation_time_brute_force = end_time - start_time\n",
        "    print('Rule generation:', rule_generation_time_brute_force)\n",
        "\n",
        "    return association_rules\n",
        "\n",
        "\n",
        "min_support = 0.1\n",
        "min_confidence = 0.7\n",
        "rules = brute_force_association_rules(transactions, min_support, min_confidence)\n",
        "\n",
        "for rule in rules:\n",
        "    print(f\"Rule: {rule['antecedent']} -> {rule['consequent']}, \"\n",
        "          f\"Support: {rule['support']:.2f}, Confidence: {rule['confidence']:.2f}\")"
      ],
      "metadata": {
        "colab": {
          "base_uri": "https://localhost:8080/"
        },
        "id": "JofYYUT9qLoW",
        "outputId": "9722bb17-c5d9-48b1-a475-1d3363bf0bef"
      },
      "execution_count": 78,
      "outputs": [
        {
          "output_type": "stream",
          "name": "stderr",
          "text": [
            "/usr/local/lib/python3.10/dist-packages/ipykernel/ipkernel.py:283: DeprecationWarning: `should_run_async` will not call `transform_cell` automatically in the future. Please pass the result to `transformed_cell` argument and any exception that happen during thetransform in `preprocessing_exc_tuple` in IPython 7.17 and above.\n",
            "  and should_run_async(code)\n"
          ]
        },
        {
          "output_type": "stream",
          "name": "stdout",
          "text": [
            "Unique items: 6\n",
            "Frequent itemsets: 2.0676398277282715\n",
            "Rule generation: 0.714909553527832\n",
            "Rule: ('Male',) -> ('Adult',), Support: 0.76, Confidence: 0.96\n",
            "Rule: ('Adult',) -> ('Male',), Support: 0.76, Confidence: 0.80\n",
            "Rule: ('Male',) -> ('No',), Support: 0.62, Confidence: 0.79\n",
            "Rule: ('No',) -> ('Male',), Support: 0.62, Confidence: 0.92\n",
            "Rule: ('Yes',) -> ('Adult',), Support: 0.29, Confidence: 0.92\n",
            "Rule: ('Female',) -> ('Yes',), Support: 0.15, Confidence: 0.73\n",
            "Rule: ('No',) -> ('Adult',), Support: 0.66, Confidence: 0.96\n",
            "Rule: ('Female',) -> ('Adult',), Support: 0.19, Confidence: 0.90\n",
            "Rule: ('Male', 'Yes') -> ('Adult',), Support: 0.15, Confidence: 0.92\n",
            "Rule: ('Male',) -> ('Adult', 'No'), Support: 0.61, Confidence: 0.77\n",
            "Rule: ('No',) -> ('Adult', 'Male'), Support: 0.61, Confidence: 0.89\n",
            "Rule: ('Male', 'Adult') -> ('No',), Support: 0.61, Confidence: 0.80\n",
            "Rule: ('Male', 'No') -> ('Adult',), Support: 0.61, Confidence: 0.97\n",
            "Rule: ('Adult', 'No') -> ('Male',), Support: 0.61, Confidence: 0.93\n",
            "Rule: ('Yes', 'Female') -> ('Adult',), Support: 0.14, Confidence: 0.92\n",
            "Rule: ('Adult', 'Female') -> ('Yes',), Support: 0.14, Confidence: 0.74\n"
          ]
        }
      ]
    },
    {
      "cell_type": "markdown",
      "source": [
        "#### Measuring time taken for X-Large Titanic dataset"
      ],
      "metadata": {
        "id": "TJ2NJ85lpuid"
      }
    },
    {
      "cell_type": "code",
      "source": [
        "# Import X-Large Titanic dataset\n",
        "titanic_xlarge = pd.read_pickle('/content/drive/MyDrive/NTU MSIS/IN6227/Assignment 2/preprocessed_datasets/titanic_xlarge.pkl')\n",
        "\n",
        "# Convert DataFrame to list of transactions\n",
        "transactions = [set(item_list) for item_list in titanic_xlarge['statistics']]\n",
        "\n",
        "# Run Brute-Forcing code\n",
        "import time\n",
        "from itertools import combinations\n",
        "\n",
        "def get_unique_items(transactions):\n",
        "    # Get unique items from all transactions\n",
        "    unique_items = set()\n",
        "    for transaction in transactions:\n",
        "        unique_items.update(transaction)\n",
        "    return unique_items\n",
        "\n",
        "def generate_all_combinations(items):\n",
        "    # Generate all non-empty combinations of items\n",
        "    all_combinations = []\n",
        "    for i in range(1, len(items) + 1):\n",
        "        all_combinations.extend(combinations(items, i))\n",
        "    return all_combinations\n",
        "\n",
        "def calculate_support(itemset, transactions):\n",
        "    # Calculate support as the proportion of transactions that contain the itemset\n",
        "    count = sum(1 for transaction in transactions if set(itemset).issubset(transaction))\n",
        "    return count / len(transactions)\n",
        "\n",
        "def generate_subsets(itemset):\n",
        "    # Generate all non-empty subsets of an itemset\n",
        "    subsets = []\n",
        "    for i in range(1, len(itemset)):\n",
        "        subsets.extend(combinations(itemset, i))\n",
        "    return subsets\n",
        "\n",
        "def brute_force_association_rules(transactions, min_support, min_confidence):\n",
        "    # Measure time taken for frequent itemset generation\n",
        "    start_time = time.time()\n",
        "\n",
        "    # Step 1: Get all unique items from the transactions\n",
        "    items = get_unique_items(transactions)\n",
        "    print('Unique items:', len(items))\n",
        "\n",
        "    # Step 2: Generate all possible itemsets\n",
        "    all_itemsets = generate_all_combinations(items)\n",
        "\n",
        "    # Step 3: Calculate support for each itemset\n",
        "    itemset_support = {}\n",
        "    for itemset in all_itemsets:\n",
        "        support = calculate_support(itemset, transactions)\n",
        "        if support >= min_support:\n",
        "            itemset_support[itemset] = support\n",
        "\n",
        "    # Calculate time taken for frequent itemset generation\n",
        "    end_time = time.time()\n",
        "    frequent_itemsets_time_brute_force = end_time - start_time\n",
        "    print('Frequent itemsets:', frequent_itemsets_time_brute_force)\n",
        "\n",
        "    # Step 4: Generate association rules from itemsets with sufficient support\n",
        "    start_time = time.time()\n",
        "    association_rules = []\n",
        "    for itemset, support in itemset_support.items():\n",
        "        subsets = generate_subsets(itemset)\n",
        "        for subset in subsets:\n",
        "            antecedent = subset\n",
        "            consequent = tuple(set(itemset) - set(antecedent))\n",
        "            if consequent:\n",
        "                # Calculate confidence\n",
        "                antecedent_support = calculate_support(antecedent, transactions)\n",
        "                confidence = support / antecedent_support if antecedent_support > 0 else 0\n",
        "                if confidence >= min_confidence:\n",
        "                    rule = {\n",
        "                        'antecedent': antecedent,\n",
        "                        'consequent': consequent,\n",
        "                        'support': support,\n",
        "                        'confidence': confidence\n",
        "                    }\n",
        "                    association_rules.append(rule)\n",
        "\n",
        "    end_time = time.time()\n",
        "    rule_generation_time_brute_force = end_time - start_time\n",
        "    print('Rule generation:', rule_generation_time_brute_force)\n",
        "\n",
        "    return association_rules\n",
        "\n",
        "\n",
        "min_support = 0.1\n",
        "min_confidence = 0.7\n",
        "rules = brute_force_association_rules(transactions, min_support, min_confidence)\n",
        "\n",
        "for rule in rules:\n",
        "    print(f\"Rule: {rule['antecedent']} -> {rule['consequent']}, \"\n",
        "          f\"Support: {rule['support']:.2f}, Confidence: {rule['confidence']:.2f}\")"
      ],
      "metadata": {
        "colab": {
          "base_uri": "https://localhost:8080/"
        },
        "id": "5M9rECv8oJgY",
        "outputId": "858edf92-2d24-4504-dd2b-70be1f6e2fb9"
      },
      "execution_count": 77,
      "outputs": [
        {
          "output_type": "stream",
          "name": "stderr",
          "text": [
            "/usr/local/lib/python3.10/dist-packages/ipykernel/ipkernel.py:283: DeprecationWarning: `should_run_async` will not call `transform_cell` automatically in the future. Please pass the result to `transformed_cell` argument and any exception that happen during thetransform in `preprocessing_exc_tuple` in IPython 7.17 and above.\n",
            "  and should_run_async(code)\n"
          ]
        },
        {
          "output_type": "stream",
          "name": "stdout",
          "text": [
            "Unique items: 6\n",
            "Frequent itemsets: 19.597121238708496\n",
            "Rule generation: 7.021878719329834\n",
            "Rule: ('Male',) -> ('Adult',), Support: 0.76, Confidence: 0.96\n",
            "Rule: ('Adult',) -> ('Male',), Support: 0.76, Confidence: 0.80\n",
            "Rule: ('Male',) -> ('No',), Support: 0.62, Confidence: 0.79\n",
            "Rule: ('No',) -> ('Male',), Support: 0.62, Confidence: 0.92\n",
            "Rule: ('Yes',) -> ('Adult',), Support: 0.30, Confidence: 0.92\n",
            "Rule: ('Female',) -> ('Yes',), Support: 0.16, Confidence: 0.73\n",
            "Rule: ('No',) -> ('Adult',), Support: 0.65, Confidence: 0.97\n",
            "Rule: ('Female',) -> ('Adult',), Support: 0.19, Confidence: 0.90\n",
            "Rule: ('Male', 'Yes') -> ('Adult',), Support: 0.15, Confidence: 0.92\n",
            "Rule: ('Male',) -> ('Adult', 'No'), Support: 0.60, Confidence: 0.77\n",
            "Rule: ('No',) -> ('Adult', 'Male'), Support: 0.60, Confidence: 0.89\n",
            "Rule: ('Male', 'Adult') -> ('No',), Support: 0.60, Confidence: 0.80\n",
            "Rule: ('Male', 'No') -> ('Adult',), Support: 0.60, Confidence: 0.97\n",
            "Rule: ('Adult', 'No') -> ('Male',), Support: 0.60, Confidence: 0.92\n",
            "Rule: ('Yes', 'Female') -> ('Adult',), Support: 0.14, Confidence: 0.92\n",
            "Rule: ('Adult', 'Female') -> ('Yes',), Support: 0.14, Confidence: 0.74\n"
          ]
        }
      ]
    },
    {
      "cell_type": "markdown",
      "metadata": {
        "id": "fKwewT8k_qhs"
      },
      "source": [
        "### Restaurant dataset"
      ]
    },
    {
      "cell_type": "code",
      "execution_count": 90,
      "metadata": {
        "id": "nVaDRBOoCccP",
        "colab": {
          "base_uri": "https://localhost:8080/"
        },
        "outputId": "fb8e0dc0-cfb4-4e53-9045-08fb15c87739"
      },
      "outputs": [
        {
          "output_type": "stream",
          "name": "stderr",
          "text": [
            "/usr/local/lib/python3.10/dist-packages/ipykernel/ipkernel.py:283: DeprecationWarning: `should_run_async` will not call `transform_cell` automatically in the future. Please pass the result to `transformed_cell` argument and any exception that happen during thetransform in `preprocessing_exc_tuple` in IPython 7.17 and above.\n",
            "  and should_run_async(code)\n"
          ]
        },
        {
          "output_type": "stream",
          "name": "stdout",
          "text": [
            "Unique items: 16\n",
            "Frequent itemsets: 0.2650737762451172\n",
            "Rule generation: 0.0005588531494140625\n",
            "Rule: ('Fruits/Vegetables',) -> ('MANHATTAN',), Support: 0.10, Confidence: 1.00\n",
            "Rule: ('Fruits/Vegetables',) -> ('A',), Support: 0.10, Confidence: 1.00\n",
            "Rule: ('C',) -> ('EasternEuropean',), Support: 0.10, Confidence: 1.00\n",
            "Rule: ('EasternEuropean',) -> ('C',), Support: 0.10, Confidence: 1.00\n",
            "Rule: ('C',) -> ('BROOKLYN',), Support: 0.10, Confidence: 1.00\n",
            "Rule: ('BROOKLYN',) -> ('C',), Support: 0.10, Confidence: 1.00\n",
            "Rule: ('Sandwiches/Salads/MixedBuffet',) -> ('MANHATTAN',), Support: 0.10, Confidence: 1.00\n",
            "Rule: ('Sandwiches/Salads/MixedBuffet',) -> ('A',), Support: 0.10, Confidence: 1.00\n",
            "Rule: ('Afghan',) -> ('MANHATTAN',), Support: 0.10, Confidence: 1.00\n",
            "Rule: ('Afghan',) -> ('A',), Support: 0.10, Confidence: 1.00\n",
            "Rule: ('Z',) -> ('MANHATTAN',), Support: 0.10, Confidence: 1.00\n",
            "Rule: ('Z',) -> ('Tex-Mex',), Support: 0.10, Confidence: 1.00\n",
            "Rule: ('Tex-Mex',) -> ('Z',), Support: 0.10, Confidence: 1.00\n",
            "Rule: ('Hotdogs/Pretzels',) -> ('MANHATTAN',), Support: 0.10, Confidence: 1.00\n",
            "Rule: ('Hotdogs/Pretzels',) -> ('A',), Support: 0.10, Confidence: 1.00\n",
            "Rule: ('EasternEuropean',) -> ('BROOKLYN',), Support: 0.10, Confidence: 1.00\n",
            "Rule: ('BROOKLYN',) -> ('EasternEuropean',), Support: 0.10, Confidence: 1.00\n",
            "Rule: ('MANHATTAN',) -> ('A',), Support: 0.60, Confidence: 0.86\n",
            "Rule: ('A',) -> ('MANHATTAN',), Support: 0.60, Confidence: 0.75\n",
            "Rule: ('Tex-Mex',) -> ('MANHATTAN',), Support: 0.10, Confidence: 1.00\n",
            "Rule: ('Chicken',) -> ('MANHATTAN',), Support: 0.10, Confidence: 1.00\n",
            "Rule: ('Vietnamese/Cambodian/Malaysia',) -> ('MANHATTAN',), Support: 0.10, Confidence: 1.00\n",
            "Rule: ('QUEENS',) -> ('A',), Support: 0.20, Confidence: 1.00\n",
            "Rule: ('Chicken',) -> ('A',), Support: 0.10, Confidence: 1.00\n",
            "Rule: ('Vietnamese/Cambodian/Malaysia',) -> ('A',), Support: 0.10, Confidence: 1.00\n",
            "Rule: ('Indonesian',) -> ('A',), Support: 0.10, Confidence: 1.00\n",
            "Rule: ('Iranian',) -> ('A',), Support: 0.10, Confidence: 1.00\n",
            "Rule: ('Indonesian',) -> ('QUEENS',), Support: 0.10, Confidence: 1.00\n",
            "Rule: ('Iranian',) -> ('QUEENS',), Support: 0.10, Confidence: 1.00\n",
            "Rule: ('Fruits/Vegetables',) -> ('MANHATTAN', 'A'), Support: 0.10, Confidence: 1.00\n",
            "Rule: ('Fruits/Vegetables', 'MANHATTAN') -> ('A',), Support: 0.10, Confidence: 1.00\n",
            "Rule: ('Fruits/Vegetables', 'A') -> ('MANHATTAN',), Support: 0.10, Confidence: 1.00\n",
            "Rule: ('C',) -> ('EasternEuropean', 'BROOKLYN'), Support: 0.10, Confidence: 1.00\n",
            "Rule: ('EasternEuropean',) -> ('C', 'BROOKLYN'), Support: 0.10, Confidence: 1.00\n",
            "Rule: ('BROOKLYN',) -> ('C', 'EasternEuropean'), Support: 0.10, Confidence: 1.00\n",
            "Rule: ('C', 'EasternEuropean') -> ('BROOKLYN',), Support: 0.10, Confidence: 1.00\n",
            "Rule: ('C', 'BROOKLYN') -> ('EasternEuropean',), Support: 0.10, Confidence: 1.00\n",
            "Rule: ('EasternEuropean', 'BROOKLYN') -> ('C',), Support: 0.10, Confidence: 1.00\n",
            "Rule: ('Sandwiches/Salads/MixedBuffet',) -> ('MANHATTAN', 'A'), Support: 0.10, Confidence: 1.00\n",
            "Rule: ('Sandwiches/Salads/MixedBuffet', 'MANHATTAN') -> ('A',), Support: 0.10, Confidence: 1.00\n",
            "Rule: ('Sandwiches/Salads/MixedBuffet', 'A') -> ('MANHATTAN',), Support: 0.10, Confidence: 1.00\n",
            "Rule: ('Afghan',) -> ('MANHATTAN', 'A'), Support: 0.10, Confidence: 1.00\n",
            "Rule: ('Afghan', 'MANHATTAN') -> ('A',), Support: 0.10, Confidence: 1.00\n",
            "Rule: ('Afghan', 'A') -> ('MANHATTAN',), Support: 0.10, Confidence: 1.00\n",
            "Rule: ('Z',) -> ('Tex-Mex', 'MANHATTAN'), Support: 0.10, Confidence: 1.00\n",
            "Rule: ('Tex-Mex',) -> ('Z', 'MANHATTAN'), Support: 0.10, Confidence: 1.00\n",
            "Rule: ('Z', 'MANHATTAN') -> ('Tex-Mex',), Support: 0.10, Confidence: 1.00\n",
            "Rule: ('Z', 'Tex-Mex') -> ('MANHATTAN',), Support: 0.10, Confidence: 1.00\n",
            "Rule: ('MANHATTAN', 'Tex-Mex') -> ('Z',), Support: 0.10, Confidence: 1.00\n",
            "Rule: ('Hotdogs/Pretzels',) -> ('MANHATTAN', 'A'), Support: 0.10, Confidence: 1.00\n",
            "Rule: ('Hotdogs/Pretzels', 'MANHATTAN') -> ('A',), Support: 0.10, Confidence: 1.00\n",
            "Rule: ('Hotdogs/Pretzels', 'A') -> ('MANHATTAN',), Support: 0.10, Confidence: 1.00\n",
            "Rule: ('Chicken',) -> ('MANHATTAN', 'A'), Support: 0.10, Confidence: 1.00\n",
            "Rule: ('MANHATTAN', 'Chicken') -> ('A',), Support: 0.10, Confidence: 1.00\n",
            "Rule: ('A', 'Chicken') -> ('MANHATTAN',), Support: 0.10, Confidence: 1.00\n",
            "Rule: ('Vietnamese/Cambodian/Malaysia',) -> ('MANHATTAN', 'A'), Support: 0.10, Confidence: 1.00\n",
            "Rule: ('MANHATTAN', 'Vietnamese/Cambodian/Malaysia') -> ('A',), Support: 0.10, Confidence: 1.00\n",
            "Rule: ('A', 'Vietnamese/Cambodian/Malaysia') -> ('MANHATTAN',), Support: 0.10, Confidence: 1.00\n",
            "Rule: ('Indonesian',) -> ('QUEENS', 'A'), Support: 0.10, Confidence: 1.00\n",
            "Rule: ('A', 'Indonesian') -> ('QUEENS',), Support: 0.10, Confidence: 1.00\n",
            "Rule: ('QUEENS', 'Indonesian') -> ('A',), Support: 0.10, Confidence: 1.00\n",
            "Rule: ('Iranian',) -> ('QUEENS', 'A'), Support: 0.10, Confidence: 1.00\n",
            "Rule: ('A', 'Iranian') -> ('QUEENS',), Support: 0.10, Confidence: 1.00\n",
            "Rule: ('QUEENS', 'Iranian') -> ('A',), Support: 0.10, Confidence: 1.00\n"
          ]
        }
      ],
      "source": [
        "import pandas as pd\n",
        "\n",
        "# Import Sample Restaurant dataset\n",
        "restaurants_sample = pd.read_pickle('/content/drive/MyDrive/NTU MSIS/IN6227/Assignment 2/preprocessed_datasets/restaurants_sample.pkl')\n",
        "restaurants_sample = restaurants_sample.sample(n=10, random_state=1)\n",
        "\n",
        "# Convert DataFrame to list of transactions\n",
        "transactions = [set(item_list) for item_list in restaurants_sample['items']]\n",
        "\n",
        "# Run Brute-Forcing code\n",
        "import time\n",
        "from itertools import combinations\n",
        "\n",
        "def get_unique_items(transactions):\n",
        "    # Get unique items from all transactions\n",
        "    unique_items = set()\n",
        "    for transaction in transactions:\n",
        "        unique_items.update(transaction)\n",
        "    return unique_items\n",
        "\n",
        "def generate_all_combinations(items):\n",
        "    # Generate all non-empty combinations of items\n",
        "    all_combinations = []\n",
        "    for i in range(1, len(items) + 1):\n",
        "        all_combinations.extend(combinations(items, i))\n",
        "    return all_combinations\n",
        "\n",
        "def calculate_support(itemset, transactions):\n",
        "    # Calculate support as the proportion of transactions that contain the itemset\n",
        "    count = sum(1 for transaction in transactions if set(itemset).issubset(transaction))\n",
        "    return count / len(transactions)\n",
        "\n",
        "def generate_subsets(itemset):\n",
        "    # Generate all non-empty subsets of an itemset\n",
        "    subsets = []\n",
        "    for i in range(1, len(itemset)):\n",
        "        subsets.extend(combinations(itemset, i))\n",
        "    return subsets\n",
        "\n",
        "def brute_force_association_rules(transactions, min_support, min_confidence):\n",
        "    # Measure time taken for frequent itemset generation\n",
        "    start_time = time.time()\n",
        "\n",
        "    # Step 1: Get all unique items from the transactions\n",
        "    items = get_unique_items(transactions)\n",
        "    print('Unique items:', len(items))\n",
        "\n",
        "    # Step 2: Generate all possible itemsets\n",
        "    all_itemsets = generate_all_combinations(items)\n",
        "\n",
        "    # Step 3: Calculate support for each itemset\n",
        "    itemset_support = {}\n",
        "    for itemset in all_itemsets:\n",
        "        support = calculate_support(itemset, transactions)\n",
        "        if support >= min_support:\n",
        "            itemset_support[itemset] = support\n",
        "\n",
        "    # Calculate time taken for frequent itemset generation\n",
        "    end_time = time.time()\n",
        "    frequent_itemsets_time_brute_force = end_time - start_time\n",
        "    print('Frequent itemsets:', frequent_itemsets_time_brute_force)\n",
        "\n",
        "    # Step 4: Generate association rules from itemsets with sufficient support\n",
        "    start_time = time.time()\n",
        "    association_rules = []\n",
        "    for itemset, support in itemset_support.items():\n",
        "        subsets = generate_subsets(itemset)\n",
        "        for subset in subsets:\n",
        "            antecedent = subset\n",
        "            consequent = tuple(set(itemset) - set(antecedent))\n",
        "            if consequent:\n",
        "                # Calculate confidence\n",
        "                antecedent_support = calculate_support(antecedent, transactions)\n",
        "                confidence = support / antecedent_support if antecedent_support > 0 else 0\n",
        "                if confidence >= min_confidence:\n",
        "                    rule = {\n",
        "                        'antecedent': antecedent,\n",
        "                        'consequent': consequent,\n",
        "                        'support': support,\n",
        "                        'confidence': confidence\n",
        "                    }\n",
        "                    association_rules.append(rule)\n",
        "\n",
        "    end_time = time.time()\n",
        "    rule_generation_time_brute_force = end_time - start_time\n",
        "    print('Rule generation:', rule_generation_time_brute_force)\n",
        "\n",
        "    return association_rules\n",
        "\n",
        "\n",
        "min_support = 0.1\n",
        "min_confidence = 0.7\n",
        "rules = brute_force_association_rules(transactions, min_support, min_confidence)\n",
        "\n",
        "for rule in rules:\n",
        "    print(f\"Rule: {rule['antecedent']} -> {rule['consequent']}, \"\n",
        "          f\"Support: {rule['support']:.2f}, Confidence: {rule['confidence']:.2f}\")"
      ]
    },
    {
      "cell_type": "markdown",
      "source": [
        "#### Calculating time taken for all Restaurant datasets\n",
        "\n",
        "The time complexity of the brute-forcing implementation will be O(n * 2^m) where n is the number of transactions and m is the number of unique items within the dataset.\n",
        "\n",
        "\n",
        "---\n",
        "\n",
        "\n",
        "These are the metrics recorded for a dataset of 10 rows:\\\n",
        "Unique items: 16\\\n",
        "Frequent itemsets: 0.2650737762451172\\\n",
        "Rule generation: 0.0005588531494140625\\\n",
        "O(10 * 2^16) = 0.2650737762451172\n",
        "O(10 * 2^16) = 0.0005588531494140625\n",
        "\n",
        "---\n",
        "Since there are 92 unique items in the dataset being used, we can derive the time it takes to run 10 rows where the unique items = 92. As such, the ratio is 2^92/2^16 = 2^76. With this, we can estimate the time it takes for 10 rows with 92 unique items:\\\n",
        "10 * 2^16 * 2^76\\\n",
        "= 0.2650737762451172 * 2^76"
      ],
      "metadata": {
        "id": "e9NE2pCjxAI5"
      }
    },
    {
      "cell_type": "code",
      "source": [
        "frequent_itemsets_brute_force = 0.2650737762451172 * 2**76\n",
        "rule_generation_brute_force = 0.0005588531494140625 * 2**76\n",
        "brute_force_sizes = [100, 1000, 10000, 100000]\n",
        "frequent_itemsets_brute_force_values = []\n",
        "rule_generation_brute_force_values = []\n",
        "\n",
        "for size in brute_force_sizes:\n",
        "  frequent_itemsets_brute_force_values.append(frequent_itemsets_brute_force * size)\n",
        "  rule_generation_brute_force_values.append(rule_generation_brute_force * size)\n",
        "\n",
        "print('Frequent itemsets:', frequent_itemsets_brute_force_values)\n",
        "print('Rule generation:', rule_generation_brute_force_values)"
      ],
      "metadata": {
        "colab": {
          "base_uri": "https://localhost:8080/"
        },
        "id": "PvGYzAALxZqW",
        "outputId": "e6f8921a-93b2-4363-e8f1-ad4b6433734e"
      },
      "execution_count": 101,
      "outputs": [
        {
          "output_type": "stream",
          "name": "stdout",
          "text": [
            "Frequent itemsets: [2.002840826284207e+24, 2.002840826284207e+25, 2.002840826284207e+26, 2.002840826284207e+27]\n",
            "Rule generation: [4.222575010622577e+21, 4.222575010622577e+22, 4.222575010622577e+23, 4.222575010622577e+24]\n"
          ]
        },
        {
          "output_type": "stream",
          "name": "stderr",
          "text": [
            "/usr/local/lib/python3.10/dist-packages/ipykernel/ipkernel.py:283: DeprecationWarning: `should_run_async` will not call `transform_cell` automatically in the future. Please pass the result to `transformed_cell` argument and any exception that happen during thetransform in `preprocessing_exc_tuple` in IPython 7.17 and above.\n",
            "  and should_run_async(code)\n"
          ]
        }
      ]
    },
    {
      "cell_type": "markdown",
      "metadata": {
        "id": "fEECJgd09ZVe"
      },
      "source": [
        "## Plotting Graphs"
      ]
    },
    {
      "cell_type": "code",
      "source": [
        "# Set the default font size for all elements\n",
        "plt.rcParams.update({'font.size': 6})  # Set font size"
      ],
      "metadata": {
        "colab": {
          "base_uri": "https://localhost:8080/"
        },
        "id": "_K6R0SS7ZHZr",
        "outputId": "4bb05bb2-246f-4638-9eec-7dfe0e06a156"
      },
      "execution_count": 126,
      "outputs": [
        {
          "output_type": "stream",
          "name": "stderr",
          "text": [
            "/usr/local/lib/python3.10/dist-packages/ipykernel/ipkernel.py:283: DeprecationWarning: `should_run_async` will not call `transform_cell` automatically in the future. Please pass the result to `transformed_cell` argument and any exception that happen during thetransform in `preprocessing_exc_tuple` in IPython 7.17 and above.\n",
            "  and should_run_async(code)\n"
          ]
        }
      ]
    },
    {
      "cell_type": "markdown",
      "source": [
        "### Titanic dataset"
      ],
      "metadata": {
        "id": "tcKVPRg7vaG9"
      }
    },
    {
      "cell_type": "code",
      "source": [
        "import matplotlib.pyplot as plt\n",
        "\n",
        "# Updated sample data with X-Large size\n",
        "dataset_sizes = ['Small', 'Medium', 'Large', 'X-Large']\n",
        "apriori_itemset_times = [0.013360023498535156, 0.019095182418823242, 0.26012325286865234, 0.7634987831115723]\n",
        "apriori_rule_times = [0.0056269168853759766, 0.008437871932983398, 0.009075164794921875, 0.00548100471496582]\n",
        "bruteforce_itemset_times = [0.014304161071777344, 0.3214538097381592, 2.0676398277282715, 19.597121238708496]\n",
        "bruteforce_rule_times = [0.007605075836181641, 0.1267397403717041, 0.714909553527832, 7.021878719329834]\n",
        "\n",
        "# Plotting\n",
        "plt.figure(figsize=(3, 3))\n",
        "\n",
        "# Apriori times\n",
        "plt.plot(dataset_sizes, apriori_itemset_times, marker='o', color='b', linestyle='-', label='Apriori - Itemset Generation')\n",
        "plt.plot(dataset_sizes, apriori_rule_times, marker='o', color='b', linestyle='--', label='Apriori - Rule Generation')\n",
        "\n",
        "# Brute-force times\n",
        "plt.plot(dataset_sizes, bruteforce_itemset_times, marker='o', color='r', linestyle='-', label='Brute-force - Itemset Generation')\n",
        "plt.plot(dataset_sizes, bruteforce_rule_times, marker='o', color='r', linestyle='--', label='Brute-force - Rule Generation')\n",
        "\n",
        "# Adding labels and title\n",
        "plt.xlabel(\"Dataset Size\")\n",
        "plt.ylabel(\"Time Taken (seconds)\")\n",
        "plt.title(\"Time Comparison: Apriori vs. Brute-force \\n(Itemset & Rule Generation) on Titanic Dataset\")\n",
        "plt.legend()\n",
        "plt.grid(True)\n",
        "plt.show()"
      ],
      "metadata": {
        "colab": {
          "base_uri": "https://localhost:8080/",
          "height": 385
        },
        "id": "CuXPZdFurDAf",
        "outputId": "afafa039-6afe-472e-9b09-b33dbbf22ade"
      },
      "execution_count": 133,
      "outputs": [
        {
          "output_type": "stream",
          "name": "stderr",
          "text": [
            "/usr/local/lib/python3.10/dist-packages/ipykernel/ipkernel.py:283: DeprecationWarning: `should_run_async` will not call `transform_cell` automatically in the future. Please pass the result to `transformed_cell` argument and any exception that happen during thetransform in `preprocessing_exc_tuple` in IPython 7.17 and above.\n",
            "  and should_run_async(code)\n"
          ]
        },
        {
          "output_type": "display_data",
          "data": {
            "text/plain": [
              "<Figure size 300x300 with 1 Axes>"
            ],
            "image/png": "[encoded data removed]"
          },
          "metadata": {}
        }
      ]
    },
    {
      "cell_type": "markdown",
      "source": [
        "### Restaurants dataset"
      ],
      "metadata": {
        "id": "tisyJm-fvePw"
      }
    },
    {
      "cell_type": "code",
      "source": [
        "import matplotlib.pyplot as plt\n",
        "\n",
        "# Inputting times\n",
        "dataset_sizes = ['Small', 'Medium', 'Large', 'X-Large']\n",
        "apriori_itemset_times = [0.009494781494140625, 0.01646733283996582, 0.35901570320129395, 0.8390617370605469]\n",
        "apriori_rule_times = [0.0040683746337890625, 0.001999378204345703, 0.002599000930786133, 0.0027778148651123047]\n",
        "bruteforce_itemset_times = [2.002840826284207e+24, 2.002840826284207e+25, 2.002840826284207e+26, 2.002840826284207e+27]\n",
        "bruteforce_rule_times = [4.222575010622577e+21, 4.222575010622577e+22, 4.222575010622577e+23, 4.222575010622577e+24]\n",
        "\n",
        "# Plotting\n",
        "plt.figure(figsize=(3, 3))\n",
        "\n",
        "# Apriori times\n",
        "plt.plot(dataset_sizes, apriori_itemset_times, marker='o', color='b', linestyle='-', label='Apriori - Itemset Generation')\n",
        "plt.plot(dataset_sizes, apriori_rule_times, marker='o', color='b', linestyle='--', label='Apriori - Rule Generation')\n",
        "\n",
        "# Brute-force times\n",
        "plt.plot(dataset_sizes, bruteforce_itemset_times, marker='o', color='r', linestyle='-', label='Brute-force - Itemset Generation')\n",
        "plt.plot(dataset_sizes, bruteforce_rule_times, marker='o', color='r', linestyle='--', label='Brute-force - Rule Generation')\n",
        "\n",
        "# Adding labels and title\n",
        "plt.xlabel(\"Dataset Size\")\n",
        "plt.ylabel(\"Time Taken (seconds)\")\n",
        "plt.title(\"Time Comparison: Apriori vs. Brute-force \\n(Itemset & Rule Generation) on Restaurants Dataset\")\n",
        "plt.yscale('log')  # Set y-axis to logarithmic scale\n",
        "plt.legend()\n",
        "plt.grid(True)\n",
        "plt.show()"
      ],
      "metadata": {
        "colab": {
          "base_uri": "https://localhost:8080/",
          "height": 385
        },
        "id": "i4AU4obgvhF4",
        "outputId": "b1843341-1bfd-4bfa-ba41-171bffa3603a"
      },
      "execution_count": 135,
      "outputs": [
        {
          "output_type": "stream",
          "name": "stderr",
          "text": [
            "/usr/local/lib/python3.10/dist-packages/ipykernel/ipkernel.py:283: DeprecationWarning: `should_run_async` will not call `transform_cell` automatically in the future. Please pass the result to `transformed_cell` argument and any exception that happen during thetransform in `preprocessing_exc_tuple` in IPython 7.17 and above.\n",
            "  and should_run_async(code)\n"
          ]
        },
        {
          "output_type": "display_data",
          "data": {
            "text/plain": [
              "<Figure size 300x300 with 1 Axes>"
            ],
            "image/png": "[encoded data removed]"
          },
          "metadata": {}
        }
      ]
    }
  ],
  "metadata": {
    "colab": {
      "provenance": [],
      "toc_visible": true
    },
    "kernelspec": {
      "display_name": "Python 3",
      "name": "python3"
    },
    "language_info": {
      "name": "python"
    }
  },
  "nbformat": 4,
  "nbformat_minor": 0
}